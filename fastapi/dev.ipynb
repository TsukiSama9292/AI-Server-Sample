{
 "cells": [
  {
   "cell_type": "code",
   "execution_count": null,
   "id": "089bc29a",
   "metadata": {},
   "outputs": [],
   "source": [
    "from ai_sample.ai_tools.base import get_search\n",
    "\n",
    "get_search(engine_type=\"science\", query=\"LLM\", num_results=3)"
   ]
  },
  {
   "cell_type": "code",
   "execution_count": null,
   "id": "cb29e396",
   "metadata": {},
   "outputs": [],
   "source": [
    "from ai_sample.mcp.base import tools"
   ]
  },
  {
   "cell_type": "code",
   "execution_count": 1,
   "id": "2b7ab2ee",
   "metadata": {},
   "outputs": [],
   "source": [
    "from langchain_mcp_adapters.client import MultiServerMCPClient\n",
    "\n",
    "client = MultiServerMCPClient(\n",
    "    {\n",
    "        \"My App\": {\n",
    "            \"transport\": \"streamable_http\",\n",
    "            \"url\": \"http://ai_server_sample_mcp:8000/mcp\"\n",
    "        },\n",
    "    }\n",
    ")\n",
    "tools = await client.get_tools()"
   ]
  },
  {
   "cell_type": "code",
   "execution_count": 10,
   "id": "b353d09b",
   "metadata": {},
   "outputs": [
    {
     "data": {
      "text/plain": [
       "'27.777777777777775'"
      ]
     },
     "execution_count": 10,
     "metadata": {},
     "output_type": "execute_result"
    }
   ],
   "source": [
    "await tools[0].arun(tool_input={\"weight_kg\": 90.0, \"height_m\": 1.80})"
   ]
  }
 ],
 "metadata": {
  "kernelspec": {
   "display_name": ".venv",
   "language": "python",
   "name": "python3"
  },
  "language_info": {
   "codemirror_mode": {
    "name": "ipython",
    "version": 3
   },
   "file_extension": ".py",
   "mimetype": "text/x-python",
   "name": "python",
   "nbconvert_exporter": "python",
   "pygments_lexer": "ipython3",
   "version": "3.12.8"
  }
 },
 "nbformat": 4,
 "nbformat_minor": 5
}
