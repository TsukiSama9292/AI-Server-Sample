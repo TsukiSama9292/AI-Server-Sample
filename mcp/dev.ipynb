{
 "cells": [
  {
   "cell_type": "code",
   "execution_count": null,
   "id": "87da6c40",
   "metadata": {},
   "outputs": [],
   "source": [
    "import httpx\n",
    "from mcp.server.fastmcp import FastMCP\n",
    "\n",
    "mcp = FastMCP(\"My App\")\n",
    "\n",
    "@mcp.tool()\n",
    "def calculate_bmi(weight_kg: float, height_m: float) -> float:\n",
    "    \"\"\"Calculate BMI given weight in kg and height in meters\"\"\"\n",
    "    return weight_kg / (height_m**2)\n",
    "\n",
    "\n",
    "@mcp.tool()\n",
    "async def fetch_weather(city: str) -> str:\n",
    "    \"\"\"Fetch current weather for a city\"\"\"\n",
    "    async with httpx.AsyncClient() as client:\n",
    "        response = await client.get(f\"https://api.weather.com/{city}\")\n",
    "        return response.text\n",
    "    \n",
    "if __name__ == \"__main__\":\n",
    "    mcp.run(transport=\"streamable-http\")"
   ]
  }
 ],
 "metadata": {
  "language_info": {
   "name": "python"
  }
 },
 "nbformat": 4,
 "nbformat_minor": 5
}
